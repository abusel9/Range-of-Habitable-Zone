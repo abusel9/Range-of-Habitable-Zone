{
 "cells": [
  {
   "cell_type": "markdown",
   "metadata": {},
   "source": [
    "# COGS 108 - Final Project Proposal"
   ]
  },
  {
   "cell_type": "markdown",
   "metadata": {},
   "source": [
    "# Names\n",
    "\n",
    "- Gian Carlo Galang\n",
    "- Evelyn Kimbirk\n",
    "- Isabella Anderson\n",
    "- Tianxing Zhou\n",
    "- Anna Busel"
   ]
  },
  {
   "cell_type": "markdown",
   "metadata": {},
   "source": [
    "# Research Question"
   ]
  },
  {
   "cell_type": "markdown",
   "metadata": {},
   "source": [
    "What is the range of the habitable zone in a planetary system and how is the distance of the zone related to the mass and radius of its host star?",
    "\n"
   ]
  },
  {
   "cell_type": "markdown",
   "metadata": {},
   "source": [
    "## Background and Prior Work"
   ]
  },
  {
   "cell_type": "markdown",
   "metadata": {},
   "source": [
    "\n",
    "One aim of modern astronomy is to detect Earth-like exoplanets that are well-suited for habitability.[^gillon] Identifying terrestrial planets in the habitable zones* (HZs)[^burgasser]  of other stars is one of the primary goals of ongoing radial velocity (RV) and transit exoplanet surveys and proposed future space missions. Learning the relationship between habitable zones and their star’s mass and radius provides opportunities for us to learn more about the identification of Earth-like exoplanets and the evolution of the universe. Exciting new discoveries such as the TRAPPIST-1 system[^gillonn] and Proxima Centauri b[^anglada] have attracted vast attention from the scientific community and the public, turning the theory into a possible reality. The calculation of habitable zones and the search for Earth-like exoplanets answers the ultimate question of mankind: Are we the only living thing in the universe? \n",
    "\n",
    "To calculate the range of habitable zones, we will be referring to the ‘A General Method for Approximating the Habitable Zone around a Main Sequence Star’ by Dr. Tom E. Morris from Fullerton College, Fullerton, CA, USA. A summary of the steps and calculations can be found here: https://www.planetarybiology.com/downloads/Estimating%20the%20habitable%20zone%2010_17_10_revised_8_19.pdf. An alternative approach has been proposed in: ‘Habitable Zones Around Main-Sequence Stars: New Estimates’ by Kopparapu et al.(2013), Astrophysical Journal, 765, 131. \n",
    "\n",
    "- The standard definition of the habitable zone is the range of distances from a star in which liquid water could exist. \n",
    "\n",
    "[^gillon]: Gillon, M., Triaud, A. H. M. J., Demory, B.-O., et al. 2017, Nature, 542, 456 \n",
    "[^burgasser]: Burgasser, A. J. 2008, Physics Today, 61,70–71, doi: 10.1063/1.2947658 \n",
    "[^gillonn]: Gillon, M., Triaud, A. H. M. J., Demory, B.-O., et al. 2017, Nature, 542, 456 \n",
    "[^anglada]: Anglada-Escudé, G., Amado, P. J., Barnes, J., et al. 2016, Nature, 536, 437 \n"
   ]
  },
  {
   "cell_type": "markdown",
   "metadata": {},
   "source": [
    "# Hypothesis\n"
   ]
  },
  {
   "cell_type": "markdown",
   "metadata": {},
   "source": [
    "\n",
    "Our team’s hypothesis is that there is a direct correlation between the range of habitable zone and the radius and mass of its host star. We came to this conclusion because as the star grew in its radius, the distance between the star and the planet grew smaller, and it is less likely to find the presence of water on closer stars."
   ]
  },
  {
   "cell_type": "markdown",
   "metadata": {},
   "source": [
    "# Data"
   ]
  },
  {
   "cell_type": "markdown",
   "metadata": {},
   "source": [
    "The ideal dataset we would want to answer this question should include the mass and radius of the star, as well as the apparent magnitude of the star. These data should be directly from the telescopes or NASA, as they provide reliable and publicly available datasets. These data should be stored in .fits or .csv files. \n",
    "\n",
    "The primary dataset we will be using is the NASA Exoplanet Archive: https://exoplanetarchive.ipac.caltech.edu/docs/data.html \n",
    "\n",
    "It contains information that we need to calculate the habitable zone and all data on the Archive can be downloaded as a CSV file. Some other possible sources of data are: \n",
    "\n",
    "- The Transiting Exoplanet Survey Satellite (TESS) data archive: https://archive.stsci.edu/missions-and-data/tess \n",
    "\n",
    "- Gaia data archive: https://gea.esac.esa.int/archive/ \n",
    "\n",
    "- JWST data archive:https://archive.stsci.edu/missions-and-data/jwst \n",
    "\n"
   ]
  },
  {
   "cell_type": "markdown",
   "metadata": {},
   "source": [
    "# Ethics & Privacy"
   ]
  },
  {
   "cell_type": "markdown",
   "metadata": {},
   "source": [
    "- An ethical concern is not acknowledging the source of the data collection and passing it off as data we collected. To resolve this, we will cite any telescope data and publications used in order to do our analysis. \n",
    "- Every telescope is limited in what kinds of data they collect and where in space they collect their data. Telescopes vary in what wavelengths of light they detect, as well as where in space they collect data. Therefore, we will focus on main sequence stars, using datasets only from telescopes detecting wavelengths in the optical and infrared range \n",
    "- There is also a potential problem in getting accurate data. For example, a telescope may have difficulty distinguishing data from relatively dimmer stars closer to a relatively brighter star, causing the dimmer stars to not have as much data collected. In order to resolve this, we will only use datasets that filter out dimmer stars relative to brighter stars."
   ]
  },
  {
   "cell_type": "markdown",
   "metadata": {},
   "source": [
    "# Team Expectations "
   ]
  },
  {
   "cell_type": "markdown",
   "metadata": {},
   "source": [
    "\n",
    "* Communicating with team members actively, let your team know if you need more time with the project. \n",
    "* Before progressing towards the next milestone in the project, make sure every team member agrees to move forward before finalizing. \n",
    "* If someone is not contributing to their portion of the project, first try to resolve the issue with them individually. If that does not help, resolve the issue at the group level. If that does not work, bring the issue to a TA or the professor to help mediate. \n",
    "* Actively participate in weekly team meetings"
   ]
  },
  {
   "cell_type": "markdown",
   "metadata": {},
   "source": [
    "# Project Timeline Proposal"
   ]
  },
  {
   "cell_type": "markdown",
   "metadata": {},
   "source": [
    "\n",
    "\n",
    "| Meeting Date  | Meeting Time | Completed Before Meeting  | Discuss at Meeting |\n",
    "|---|---|---|---|\n",
    "| 10/24 | 8:30 PM  | Edit, finalize, and submit proposal; Search for datasets  | Discuss Wrangling and possible analytical approaches; Assign group members to lead each specific part   |\n",
    "| 11/03  | 8:30 PM  | Import & Wrangle Data; EDA | Review/Edit wrangling/EDA; Discuss Analysis Plan   |\n",
    "| 11/10  | 8:30 PM  | Finalize wrangling/EDA; Begin Analysis | Discuss/edit Analysis; Complete project check-in |\n",
    "| 11/17  | 8:30 PM  | Complete analysis; Draft results/conclusion/discussion | Discuss/edit full project |\n",
    "| 11/24  | 8:30 PM | Complete analysis; Draft results/conclusions/discussions | Discuss/edit full project \n",
    "| 12/09  | 8:30 PM  | Final check on project | Turn in Final Project & Group Project Surveys |\n",
    "\n"
   ]
  }
 ],
 "metadata": {
  "kernelspec": {
   "display_name": "Python 3",
   "language": "python",
   "name": "python3"
  },
  "language_info": {
   "codemirror_mode": {
    "name": "ipython",
    "version": 3
   },
   "file_extension": ".py",
   "mimetype": "text/x-python",
   "name": "python",
   "nbconvert_exporter": "python",
   "pygments_lexer": "ipython3",
   "version": "3.8.8"
  }
 },
 "nbformat": 4,
 "nbformat_minor": 2
}
